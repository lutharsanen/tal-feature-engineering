{
 "cells": [
  {
   "cell_type": "code",
   "execution_count": 4,
   "id": "sexual-pierre",
   "metadata": {},
   "outputs": [
    {
     "name": "stdout",
     "output_type": "stream",
     "text": [
      "0\n",
      "[] []\n",
      "Finished\n"
     ]
    }
   ],
   "source": [
    "import moviepy.editor as mp\n",
    "import os\n",
    "import glob\n",
    "\n",
    "def get_video_paths(folder_path):\n",
    "    filepath_input_list = []\n",
    "    filepath_output_list = []\n",
    "    for filename in glob.iglob(\"{}\".format(folder_path), recursive=True):\n",
    "        if os.path.isfile(filename): # filter dirs\n",
    "            # check if there is a wav file\n",
    "            wav_filename = os.path.splitext(filename)[0] + \"{}\".format(\".wav\")\n",
    "            if not os.path.isfile(wav_filename):\n",
    "                filepath_input_list.append(filename)\n",
    "                filepath_output_list.append(os.path.splitext(filename)[0] + \"{}\".format(\".wav\"))\n",
    "    # these videos have no audio and cannot be processed\n",
    "    filepath_input_list.remove(\"Y:\\\\TAL\\\\videos\\\\01051\\\\01051.mp4\")\n",
    "    filepath_input_list.remove(\"Y:\\\\TAL\\\\videos\\\\02947\\\\02947.mp4\")\n",
    "    filepath_input_list.remove(\"Y:\\\\TAL\\\\videos\\\\03950\\\\03950.mp4\")\n",
    "    filepath_input_list.remove(\"Y:\\\\TAL\\\\videos\\\\01896\\\\01896.mp4\")\n",
    "    \n",
    "    filepath_output_list.remove(\"Y:\\\\TAL\\\\videos\\\\01051\\\\01051.wav\")\n",
    "    filepath_output_list.remove(\"Y:\\\\TAL\\\\videos\\\\02947\\\\02947.wav\")\n",
    "    filepath_output_list.remove(\"Y:\\\\TAL\\\\videos\\\\03950\\\\03950.wav\")\n",
    "    filepath_output_list.remove(\"Y:\\\\TAL\\\\videos\\\\01896\\\\01896.wav\")\n",
    "    \n",
    "    print(len(filepath_input_list))\n",
    "    \n",
    "    return filepath_input_list, filepath_output_list\n",
    "\n",
    "\n",
    "def process_video(filepath_input, filepath_output):\n",
    "    my_clip = mp.VideoFileClip(r\"{}\".format(filepath_input))\n",
    "    my_clip.audio.write_audiofile(r\"{}\".format(filepath_output))\n",
    "    \n",
    "\n",
    "if __name__ == \"__main__\":\n",
    "    root_dir = \"Y:\\\\TAL\\\\videos\\\\**\\\\*.mp4\"\n",
    "    filepath_input_list, filepath_output_list = get_video_paths(root_dir)\n",
    "    print(filepath_input_list, filepath_output_list)\n",
    "    for path, name in zip(filepath_input_list, filepath_output_list):\n",
    "        process_video(path, name)\n",
    "    \n",
    "    \n",
    "    print(\"Finished\")\n"
   ]
  },
  {
   "cell_type": "code",
   "execution_count": null,
   "id": "frequent-yorkshire",
   "metadata": {},
   "outputs": [],
   "source": []
  },
  {
   "cell_type": "code",
   "execution_count": null,
   "id": "packed-panic",
   "metadata": {},
   "outputs": [],
   "source": []
  }
 ],
 "metadata": {
  "kernelspec": {
   "display_name": "Python 3",
   "language": "python",
   "name": "python3"
  },
  "language_info": {
   "codemirror_mode": {
    "name": "ipython",
    "version": 3
   },
   "file_extension": ".py",
   "mimetype": "text/x-python",
   "name": "python",
   "nbconvert_exporter": "python",
   "pygments_lexer": "ipython3",
   "version": "3.9.4"
  }
 },
 "nbformat": 4,
 "nbformat_minor": 5
}
