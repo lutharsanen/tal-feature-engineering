{
 "cells": [
  {
   "cell_type": "code",
   "execution_count": 1,
   "id": "sexual-pierre",
   "metadata": {},
   "outputs": [
    {
     "ename": "ValueError",
     "evalue": "list.remove(x): x not in list",
     "output_type": "error",
     "traceback": [
      "\u001b[1;31m---------------------------------------------------------------------------\u001b[0m",
      "\u001b[1;31mValueError\u001b[0m                                Traceback (most recent call last)",
      "\u001b[1;32m<ipython-input-1-7c9a18b7c294>\u001b[0m in \u001b[0;36m<module>\u001b[1;34m\u001b[0m\n\u001b[0;32m     36\u001b[0m \u001b[1;32mif\u001b[0m \u001b[0m__name__\u001b[0m \u001b[1;33m==\u001b[0m \u001b[1;34m\"__main__\"\u001b[0m\u001b[1;33m:\u001b[0m\u001b[1;33m\u001b[0m\u001b[1;33m\u001b[0m\u001b[0m\n\u001b[0;32m     37\u001b[0m     \u001b[0mroot_dir\u001b[0m \u001b[1;33m=\u001b[0m \u001b[1;34m\"Y:\\\\TAL\\\\Videos\\\\videos\\\\**\\\\*.mp4\"\u001b[0m\u001b[1;33m\u001b[0m\u001b[1;33m\u001b[0m\u001b[0m\n\u001b[1;32m---> 38\u001b[1;33m     \u001b[0mfilepath_input_list\u001b[0m\u001b[1;33m,\u001b[0m \u001b[0mfilepath_output_list\u001b[0m \u001b[1;33m=\u001b[0m \u001b[0mget_video_paths\u001b[0m\u001b[1;33m(\u001b[0m\u001b[0mroot_dir\u001b[0m\u001b[1;33m)\u001b[0m\u001b[1;33m\u001b[0m\u001b[1;33m\u001b[0m\u001b[0m\n\u001b[0m\u001b[0;32m     39\u001b[0m     \u001b[0mprint\u001b[0m\u001b[1;33m(\u001b[0m\u001b[0mfilepath_input_list\u001b[0m\u001b[1;33m,\u001b[0m \u001b[0mfilepath_output_list\u001b[0m\u001b[1;33m)\u001b[0m\u001b[1;33m\u001b[0m\u001b[1;33m\u001b[0m\u001b[0m\n\u001b[0;32m     40\u001b[0m     \u001b[1;32mfor\u001b[0m \u001b[0mpath\u001b[0m\u001b[1;33m,\u001b[0m \u001b[0mname\u001b[0m \u001b[1;32min\u001b[0m \u001b[0mzip\u001b[0m\u001b[1;33m(\u001b[0m\u001b[0mfilepath_input_list\u001b[0m\u001b[1;33m,\u001b[0m \u001b[0mfilepath_output_list\u001b[0m\u001b[1;33m)\u001b[0m\u001b[1;33m:\u001b[0m\u001b[1;33m\u001b[0m\u001b[1;33m\u001b[0m\u001b[0m\n",
      "\u001b[1;32m<ipython-input-1-7c9a18b7c294>\u001b[0m in \u001b[0;36mget_video_paths\u001b[1;34m(folder_path)\u001b[0m\n\u001b[0;32m     14\u001b[0m                 \u001b[0mfilepath_output_list\u001b[0m\u001b[1;33m.\u001b[0m\u001b[0mappend\u001b[0m\u001b[1;33m(\u001b[0m\u001b[0mos\u001b[0m\u001b[1;33m.\u001b[0m\u001b[0mpath\u001b[0m\u001b[1;33m.\u001b[0m\u001b[0msplitext\u001b[0m\u001b[1;33m(\u001b[0m\u001b[0mfilename\u001b[0m\u001b[1;33m)\u001b[0m\u001b[1;33m[\u001b[0m\u001b[1;36m0\u001b[0m\u001b[1;33m]\u001b[0m \u001b[1;33m+\u001b[0m \u001b[1;34m\"{}\"\u001b[0m\u001b[1;33m.\u001b[0m\u001b[0mformat\u001b[0m\u001b[1;33m(\u001b[0m\u001b[1;34m\".wav\"\u001b[0m\u001b[1;33m)\u001b[0m\u001b[1;33m)\u001b[0m\u001b[1;33m\u001b[0m\u001b[1;33m\u001b[0m\u001b[0m\n\u001b[0;32m     15\u001b[0m     \u001b[1;31m# these videos have no audio and cannot be processed\u001b[0m\u001b[1;33m\u001b[0m\u001b[1;33m\u001b[0m\u001b[1;33m\u001b[0m\u001b[0m\n\u001b[1;32m---> 16\u001b[1;33m     \u001b[0mfilepath_input_list\u001b[0m\u001b[1;33m.\u001b[0m\u001b[0mremove\u001b[0m\u001b[1;33m(\u001b[0m\u001b[1;34m\"Y:\\\\TAL\\\\Videos\\\\videos\\\\01051\\\\01051.mp4\"\u001b[0m\u001b[1;33m)\u001b[0m\u001b[1;33m\u001b[0m\u001b[1;33m\u001b[0m\u001b[0m\n\u001b[0m\u001b[0;32m     17\u001b[0m     \u001b[0mfilepath_input_list\u001b[0m\u001b[1;33m.\u001b[0m\u001b[0mremove\u001b[0m\u001b[1;33m(\u001b[0m\u001b[1;34m\"Y:\\\\TAL\\\\Videos\\\\videos\\\\02947\\\\02947.mp4\"\u001b[0m\u001b[1;33m)\u001b[0m\u001b[1;33m\u001b[0m\u001b[1;33m\u001b[0m\u001b[0m\n\u001b[0;32m     18\u001b[0m     \u001b[0mfilepath_input_list\u001b[0m\u001b[1;33m.\u001b[0m\u001b[0mremove\u001b[0m\u001b[1;33m(\u001b[0m\u001b[1;34m\"Y:\\\\TAL\\\\Videos\\\\videos\\\\03950\\\\03950.mp4\"\u001b[0m\u001b[1;33m)\u001b[0m\u001b[1;33m\u001b[0m\u001b[1;33m\u001b[0m\u001b[0m\n",
      "\u001b[1;31mValueError\u001b[0m: list.remove(x): x not in list"
     ]
    }
   ],
   "source": [
    "import moviepy.editor as mp\n",
    "import os\n",
    "import glob\n",
    "\n",
    "def get_video_paths(folder_path):\n",
    "    filepath_input_list = []\n",
    "    filepath_output_list = []\n",
    "    for filename in glob.iglob(\"{}\".format(folder_path), recursive=True):\n",
    "        if os.path.isfile(filename): # filter dirs\n",
    "            # check if there is a wav file\n",
    "            wav_filename = os.path.splitext(filename)[0] + \"{}\".format(\".wav\")\n",
    "            if not os.path.isfile(wav_filename):\n",
    "                filepath_input_list.append(filename)\n",
    "                filepath_output_list.append(os.path.splitext(filename)[0] + \"{}\".format(\".wav\"))\n",
    "    # these videos have no audio and cannot be processed\n",
    "    #filepath_input_list.remove(\"Y:\\\\TAL\\\\Videos\\\\videos\\\\01051\\\\01051.mp4\")\n",
    "    #filepath_input_list.remove(\"Y:\\\\TAL\\\\Videos\\\\videos\\\\02947\\\\02947.mp4\")\n",
    "    #filepath_input_list.remove(\"Y:\\\\TAL\\\\Videos\\\\videos\\\\03950\\\\03950.mp4\")\n",
    "    #filepath_input_list.remove(\"Y:\\\\TAL\\\\Videos\\\\videos\\\\01896\\\\01896.mp4\")\n",
    "    \n",
    "    #filepath_output_list.remove(\"Y:\\\\TAL\\\\Videos\\\\videos\\\\01051\\\\01051.wav\")\n",
    "    #filepath_output_list.remove(\"Y:\\\\TAL\\\\Videos\\\\videos\\\\02947\\\\02947.wav\")\n",
    "    #filepath_output_list.remove(\"Y:\\\\TAL\\\\Videos\\\\videos\\\\03950\\\\03950.wav\")\n",
    "    #filepath_output_list.remove(\"Y:\\\\TAL\\\\Videos\\\\videos\\\\01896\\\\01896.wav\")\n",
    "    \n",
    "    print(len(filepath_input_list))\n",
    "    \n",
    "    return filepath_input_list, filepath_output_list\n",
    "\n",
    "\n",
    "def process_video(filepath_input, filepath_output):\n",
    "    my_clip = mp.VideoFileClip(r\"{}\".format(filepath_input))\n",
    "    my_clip.audio.write_audiofile(r\"{}\".format(filepath_output))\n",
    "    \n",
    "\n",
    "if __name__ == \"__main__\":\n",
    "    root_dir = \"Y:\\\\TAL\\\\videos\\\\**\\\\*.mp4\"\n",
    "    filepath_input_list, filepath_output_list = get_video_paths(root_dir)\n",
    "    print(filepath_input_list, filepath_output_list)\n",
    "    for path, name in zip(filepath_input_list, filepath_output_list):\n",
    "        process_video(path, name)\n",
    "    \n",
    "    \n",
    "    print(\"Finished\")\n"
   ]
  },
  {
   "cell_type": "code",
   "execution_count": null,
   "id": "frequent-yorkshire",
   "metadata": {},
   "outputs": [],
   "source": []
  },
  {
   "cell_type": "code",
   "execution_count": null,
   "id": "packed-panic",
   "metadata": {},
   "outputs": [],
   "source": []
  }
 ],
 "metadata": {
  "kernelspec": {
   "display_name": "Python 3",
   "language": "python",
   "name": "python3"
  },
  "language_info": {
   "codemirror_mode": {
    "name": "ipython",
    "version": 3
   },
   "file_extension": ".py",
   "mimetype": "text/x-python",
   "name": "python",
   "nbconvert_exporter": "python",
   "pygments_lexer": "ipython3",
   "version": "3.8.8"
  }
 },
 "nbformat": 4,
 "nbformat_minor": 5
}
