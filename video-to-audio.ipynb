{
 "cells": [
  {
   "cell_type": "code",
   "execution_count": 33,
   "id": "sexual-pierre",
   "metadata": {},
   "outputs": [
    {
     "name": "stdout",
     "output_type": "stream",
     "text": [
      "C:\\Users\\adria\\OneDrive - Universität Zürich UZH\\2021_FS\\Interactive Video Retrieval\\Project\\Video_DB\\00032\\00032.description\n",
      "C:\\Users\\adria\\OneDrive - Universität Zürich UZH\\2021_FS\\Interactive Video Retrieval\\Project\\Video_DB\\00032\\00032.info.json\n",
      "C:\\Users\\adria\\OneDrive - Universität Zürich UZH\\2021_FS\\Interactive Video Retrieval\\Project\\Video_DB\\00032\\00032.mp4\n",
      "C:\\Users\\adria\\OneDrive - Universität Zürich UZH\\2021_FS\\Interactive Video Retrieval\\Project\\Video_DB\\00037\\00037.description\n",
      "C:\\Users\\adria\\OneDrive - Universität Zürich UZH\\2021_FS\\Interactive Video Retrieval\\Project\\Video_DB\\00037\\00037.info.json\n",
      "C:\\Users\\adria\\OneDrive - Universität Zürich UZH\\2021_FS\\Interactive Video Retrieval\\Project\\Video_DB\\00037\\00037.mp4\n",
      "C:\\Users\\adria\\OneDrive - Universität Zürich UZH\\2021_FS\\Interactive Video Retrieval\\Project\\Video_DB\\00061\\00061.description\n",
      "C:\\Users\\adria\\OneDrive - Universität Zürich UZH\\2021_FS\\Interactive Video Retrieval\\Project\\Video_DB\\00061\\00061.info.json\n",
      "C:\\Users\\adria\\OneDrive - Universität Zürich UZH\\2021_FS\\Interactive Video Retrieval\\Project\\Video_DB\\00061\\00061.mp4\n",
      "C:\\Users\\adria\\OneDrive - Universität Zürich UZH\\2021_FS\\Interactive Video Retrieval\\Project\\Video_DB\\00063\\00063.description\n",
      "C:\\Users\\adria\\OneDrive - Universität Zürich UZH\\2021_FS\\Interactive Video Retrieval\\Project\\Video_DB\\00063\\00063.info.json\n",
      "C:\\Users\\adria\\OneDrive - Universität Zürich UZH\\2021_FS\\Interactive Video Retrieval\\Project\\Video_DB\\00063\\00063.mp4\n",
      "C:\\Users\\adria\\OneDrive - Universität Zürich UZH\\2021_FS\\Interactive Video Retrieval\\Project\\Video_DB\\00078\\00078.description\n",
      "C:\\Users\\adria\\OneDrive - Universität Zürich UZH\\2021_FS\\Interactive Video Retrieval\\Project\\Video_DB\\00078\\00078.info.json\n",
      "C:\\Users\\adria\\OneDrive - Universität Zürich UZH\\2021_FS\\Interactive Video Retrieval\\Project\\Video_DB\\00078\\00078.mp4\n",
      "C:\\Users\\adria\\OneDrive - Universität Zürich UZH\\2021_FS\\Interactive Video Retrieval\\Project\\Video_DB\\00081\\00081.description\n",
      "C:\\Users\\adria\\OneDrive - Universität Zürich UZH\\2021_FS\\Interactive Video Retrieval\\Project\\Video_DB\\00081\\00081.info.json\n",
      "C:\\Users\\adria\\OneDrive - Universität Zürich UZH\\2021_FS\\Interactive Video Retrieval\\Project\\Video_DB\\00081\\00081.mp4\n",
      "C:\\Users\\adria\\OneDrive - Universität Zürich UZH\\2021_FS\\Interactive Video Retrieval\\Project\\Video_DB\\00111\\00111.description\n",
      "C:\\Users\\adria\\OneDrive - Universität Zürich UZH\\2021_FS\\Interactive Video Retrieval\\Project\\Video_DB\\00111\\00111.info.json\n",
      "C:\\Users\\adria\\OneDrive - Universität Zürich UZH\\2021_FS\\Interactive Video Retrieval\\Project\\Video_DB\\00111\\00111.mp4\n",
      "C:\\Users\\adria\\OneDrive - Universität Zürich UZH\\2021_FS\\Interactive Video Retrieval\\Project\\Video_DB\\00181\\00181.description\n",
      "C:\\Users\\adria\\OneDrive - Universität Zürich UZH\\2021_FS\\Interactive Video Retrieval\\Project\\Video_DB\\00181\\00181.info.json\n",
      "C:\\Users\\adria\\OneDrive - Universität Zürich UZH\\2021_FS\\Interactive Video Retrieval\\Project\\Video_DB\\00181\\00181.mp4\n",
      "C:\\Users\\adria\\OneDrive - Universität Zürich UZH\\2021_FS\\Interactive Video Retrieval\\Project\\Video_DB\\00188\\00188.description\n",
      "C:\\Users\\adria\\OneDrive - Universität Zürich UZH\\2021_FS\\Interactive Video Retrieval\\Project\\Video_DB\\00188\\00188.info.json\n",
      "C:\\Users\\adria\\OneDrive - Universität Zürich UZH\\2021_FS\\Interactive Video Retrieval\\Project\\Video_DB\\00188\\00188.mp4\n",
      "C:\\Users\\adria\\OneDrive - Universität Zürich UZH\\2021_FS\\Interactive Video Retrieval\\Project\\Video_DB\\00192\\00192.description\n",
      "C:\\Users\\adria\\OneDrive - Universität Zürich UZH\\2021_FS\\Interactive Video Retrieval\\Project\\Video_DB\\00192\\00192.info.json\n",
      "C:\\Users\\adria\\OneDrive - Universität Zürich UZH\\2021_FS\\Interactive Video Retrieval\\Project\\Video_DB\\00192\\00192.mp4\n",
      "['C:\\\\Users\\\\adria\\\\OneDrive - Universität Zürich UZH\\\\2021_FS\\\\Interactive Video Retrieval\\\\Project\\\\Video_DB\\\\00032\\\\00032.mp4', 'C:\\\\Users\\\\adria\\\\OneDrive - Universität Zürich UZH\\\\2021_FS\\\\Interactive Video Retrieval\\\\Project\\\\Video_DB\\\\00037\\\\00037.mp4', 'C:\\\\Users\\\\adria\\\\OneDrive - Universität Zürich UZH\\\\2021_FS\\\\Interactive Video Retrieval\\\\Project\\\\Video_DB\\\\00061\\\\00061.mp4', 'C:\\\\Users\\\\adria\\\\OneDrive - Universität Zürich UZH\\\\2021_FS\\\\Interactive Video Retrieval\\\\Project\\\\Video_DB\\\\00063\\\\00063.mp4', 'C:\\\\Users\\\\adria\\\\OneDrive - Universität Zürich UZH\\\\2021_FS\\\\Interactive Video Retrieval\\\\Project\\\\Video_DB\\\\00078\\\\00078.mp4', 'C:\\\\Users\\\\adria\\\\OneDrive - Universität Zürich UZH\\\\2021_FS\\\\Interactive Video Retrieval\\\\Project\\\\Video_DB\\\\00081\\\\00081.mp4', 'C:\\\\Users\\\\adria\\\\OneDrive - Universität Zürich UZH\\\\2021_FS\\\\Interactive Video Retrieval\\\\Project\\\\Video_DB\\\\00111\\\\00111.mp4', 'C:\\\\Users\\\\adria\\\\OneDrive - Universität Zürich UZH\\\\2021_FS\\\\Interactive Video Retrieval\\\\Project\\\\Video_DB\\\\00181\\\\00181.mp4', 'C:\\\\Users\\\\adria\\\\OneDrive - Universität Zürich UZH\\\\2021_FS\\\\Interactive Video Retrieval\\\\Project\\\\Video_DB\\\\00188\\\\00188.mp4', 'C:\\\\Users\\\\adria\\\\OneDrive - Universität Zürich UZH\\\\2021_FS\\\\Interactive Video Retrieval\\\\Project\\\\Video_DB\\\\00192\\\\00192.mp4'] ['C:\\\\Users\\\\adria\\\\OneDrive - Universität Zürich UZH\\\\2021_FS\\\\Interactive Video Retrieval\\\\Project\\\\Video_DB\\\\00032\\\\00032.wav', 'C:\\\\Users\\\\adria\\\\OneDrive - Universität Zürich UZH\\\\2021_FS\\\\Interactive Video Retrieval\\\\Project\\\\Video_DB\\\\00037\\\\00037.wav', 'C:\\\\Users\\\\adria\\\\OneDrive - Universität Zürich UZH\\\\2021_FS\\\\Interactive Video Retrieval\\\\Project\\\\Video_DB\\\\00061\\\\00061.wav', 'C:\\\\Users\\\\adria\\\\OneDrive - Universität Zürich UZH\\\\2021_FS\\\\Interactive Video Retrieval\\\\Project\\\\Video_DB\\\\00063\\\\00063.wav', 'C:\\\\Users\\\\adria\\\\OneDrive - Universität Zürich UZH\\\\2021_FS\\\\Interactive Video Retrieval\\\\Project\\\\Video_DB\\\\00078\\\\00078.wav', 'C:\\\\Users\\\\adria\\\\OneDrive - Universität Zürich UZH\\\\2021_FS\\\\Interactive Video Retrieval\\\\Project\\\\Video_DB\\\\00081\\\\00081.wav', 'C:\\\\Users\\\\adria\\\\OneDrive - Universität Zürich UZH\\\\2021_FS\\\\Interactive Video Retrieval\\\\Project\\\\Video_DB\\\\00111\\\\00111.wav', 'C:\\\\Users\\\\adria\\\\OneDrive - Universität Zürich UZH\\\\2021_FS\\\\Interactive Video Retrieval\\\\Project\\\\Video_DB\\\\00181\\\\00181.wav', 'C:\\\\Users\\\\adria\\\\OneDrive - Universität Zürich UZH\\\\2021_FS\\\\Interactive Video Retrieval\\\\Project\\\\Video_DB\\\\00188\\\\00188.wav', 'C:\\\\Users\\\\adria\\\\OneDrive - Universität Zürich UZH\\\\2021_FS\\\\Interactive Video Retrieval\\\\Project\\\\Video_DB\\\\00192\\\\00192.wav']\n"
     ]
    },
    {
     "name": "stderr",
     "output_type": "stream",
     "text": [
      "chunk:   7%|███▉                                                        | 409/6253 [00:00<00:02, 2190.38it/s, now=None]"
     ]
    },
    {
     "name": "stdout",
     "output_type": "stream",
     "text": [
      "MoviePy - Writing audio in C:\\Users\\adria\\OneDrive - Universität Zürich UZH\\2021_FS\\Interactive Video Retrieval\\Project\\Video_DB\\00032\\00032.wav\n"
     ]
    },
    {
     "name": "stderr",
     "output_type": "stream",
     "text": [
      "                                                                                                                       \r"
     ]
    },
    {
     "name": "stdout",
     "output_type": "stream",
     "text": [
      "MoviePy - Done.\n"
     ]
    },
    {
     "name": "stderr",
     "output_type": "stream",
     "text": [
      "chunk:   0%|▏                                                             | 26/8338 [00:00<00:32, 257.43it/s, now=None]"
     ]
    },
    {
     "name": "stdout",
     "output_type": "stream",
     "text": [
      "MoviePy - Writing audio in C:\\Users\\adria\\OneDrive - Universität Zürich UZH\\2021_FS\\Interactive Video Retrieval\\Project\\Video_DB\\00037\\00037.wav\n"
     ]
    },
    {
     "name": "stderr",
     "output_type": "stream",
     "text": [
      "                                                                                                                       \r"
     ]
    },
    {
     "name": "stdout",
     "output_type": "stream",
     "text": [
      "MoviePy - Done.\n"
     ]
    },
    {
     "name": "stderr",
     "output_type": "stream",
     "text": [
      "chunk:   0%|▏                                                             | 29/9933 [00:00<00:36, 274.86it/s, now=None]"
     ]
    },
    {
     "name": "stdout",
     "output_type": "stream",
     "text": [
      "MoviePy - Writing audio in C:\\Users\\adria\\OneDrive - Universität Zürich UZH\\2021_FS\\Interactive Video Retrieval\\Project\\Video_DB\\00061\\00061.wav\n"
     ]
    },
    {
     "name": "stderr",
     "output_type": "stream",
     "text": [
      "                                                                                                                       \r"
     ]
    },
    {
     "name": "stdout",
     "output_type": "stream",
     "text": [
      "MoviePy - Done.\n"
     ]
    },
    {
     "name": "stderr",
     "output_type": "stream",
     "text": [
      "chunk:   0%|▏                                                            | 29/11258 [00:00<00:40, 278.85it/s, now=None]"
     ]
    },
    {
     "name": "stdout",
     "output_type": "stream",
     "text": [
      "MoviePy - Writing audio in C:\\Users\\adria\\OneDrive - Universität Zürich UZH\\2021_FS\\Interactive Video Retrieval\\Project\\Video_DB\\00063\\00063.wav\n"
     ]
    },
    {
     "name": "stderr",
     "output_type": "stream",
     "text": [
      "                                                                                                                       \r"
     ]
    },
    {
     "name": "stdout",
     "output_type": "stream",
     "text": [
      "MoviePy - Done.\n"
     ]
    },
    {
     "name": "stderr",
     "output_type": "stream",
     "text": [
      "chunk:   3%|█▉                                                          | 280/8925 [00:00<00:05, 1580.23it/s, now=None]"
     ]
    },
    {
     "name": "stdout",
     "output_type": "stream",
     "text": [
      "MoviePy - Writing audio in C:\\Users\\adria\\OneDrive - Universität Zürich UZH\\2021_FS\\Interactive Video Retrieval\\Project\\Video_DB\\00078\\00078.wav\n"
     ]
    },
    {
     "name": "stderr",
     "output_type": "stream",
     "text": [
      "                                                                                                                       \r"
     ]
    },
    {
     "name": "stdout",
     "output_type": "stream",
     "text": [
      "MoviePy - Done.\n"
     ]
    },
    {
     "name": "stderr",
     "output_type": "stream",
     "text": [
      "chunk:   0%|                                                             | 43/22528 [00:00<00:52, 425.88it/s, now=None]"
     ]
    },
    {
     "name": "stdout",
     "output_type": "stream",
     "text": [
      "MoviePy - Writing audio in C:\\Users\\adria\\OneDrive - Universität Zürich UZH\\2021_FS\\Interactive Video Retrieval\\Project\\Video_DB\\00081\\00081.wav\n"
     ]
    },
    {
     "name": "stderr",
     "output_type": "stream",
     "text": [
      "                                                                                                                       \r"
     ]
    },
    {
     "name": "stdout",
     "output_type": "stream",
     "text": [
      "MoviePy - Done.\n"
     ]
    },
    {
     "name": "stderr",
     "output_type": "stream",
     "text": [
      "chunk:   1%|▍                                                             | 36/5841 [00:00<00:16, 347.76it/s, now=None]"
     ]
    },
    {
     "name": "stdout",
     "output_type": "stream",
     "text": [
      "MoviePy - Writing audio in C:\\Users\\adria\\OneDrive - Universität Zürich UZH\\2021_FS\\Interactive Video Retrieval\\Project\\Video_DB\\00111\\00111.wav\n"
     ]
    },
    {
     "name": "stderr",
     "output_type": "stream",
     "text": [
      "                                                                                                                       \r"
     ]
    },
    {
     "name": "stdout",
     "output_type": "stream",
     "text": [
      "MoviePy - Done.\n"
     ]
    },
    {
     "name": "stderr",
     "output_type": "stream",
     "text": [
      "chunk:   0%|                                                             | 29/16338 [00:00<00:57, 284.33it/s, now=None]"
     ]
    },
    {
     "name": "stdout",
     "output_type": "stream",
     "text": [
      "MoviePy - Writing audio in C:\\Users\\adria\\OneDrive - Universität Zürich UZH\\2021_FS\\Interactive Video Retrieval\\Project\\Video_DB\\00181\\00181.wav\n"
     ]
    },
    {
     "name": "stderr",
     "output_type": "stream",
     "text": [
      "                                                                                                                       \r"
     ]
    },
    {
     "name": "stdout",
     "output_type": "stream",
     "text": [
      "MoviePy - Done.\n"
     ]
    },
    {
     "name": "stderr",
     "output_type": "stream",
     "text": [
      "chunk:   0%|                                                                | 3/4941 [00:00<03:30, 23.44it/s, now=None]"
     ]
    },
    {
     "name": "stdout",
     "output_type": "stream",
     "text": [
      "MoviePy - Writing audio in C:\\Users\\adria\\OneDrive - Universität Zürich UZH\\2021_FS\\Interactive Video Retrieval\\Project\\Video_DB\\00188\\00188.wav\n"
     ]
    },
    {
     "name": "stderr",
     "output_type": "stream",
     "text": [
      "                                                                                                                       \r"
     ]
    },
    {
     "name": "stdout",
     "output_type": "stream",
     "text": [
      "MoviePy - Done.\n"
     ]
    },
    {
     "name": "stderr",
     "output_type": "stream",
     "text": [
      "chunk:   0%|                                                              | 14/7300 [00:00<00:52, 138.62it/s, now=None]"
     ]
    },
    {
     "name": "stdout",
     "output_type": "stream",
     "text": [
      "MoviePy - Writing audio in C:\\Users\\adria\\OneDrive - Universität Zürich UZH\\2021_FS\\Interactive Video Retrieval\\Project\\Video_DB\\00192\\00192.wav\n"
     ]
    },
    {
     "name": "stderr",
     "output_type": "stream",
     "text": [
      "                                                                                                                       "
     ]
    },
    {
     "name": "stdout",
     "output_type": "stream",
     "text": [
      "MoviePy - Done.\n",
      "Finished\n"
     ]
    },
    {
     "name": "stderr",
     "output_type": "stream",
     "text": [
      "\r"
     ]
    }
   ],
   "source": [
    "import moviepy.editor as mp\n",
    "import os\n",
    "import glob\n",
    "\n",
    "def get_video_paths(folder_path):\n",
    "    filepath_input_list = []\n",
    "    filepath_output_list = []\n",
    "    for filename in glob.iglob(\"{}\".format(folder_path), recursive=True):\n",
    "        if os.path.isfile(filename): # filter dirs\n",
    "            print(filename)\n",
    "            if filename.endswith(\".mp4\"):\n",
    "                filepath_input_list.append(filename)\n",
    "                filepath_output_list.append(os.path.splitext(filename)[0] + \"{}\".format(\".wav\"))\n",
    "    \n",
    "    return filepath_input_list, filepath_output_list\n",
    "\n",
    "\n",
    "def process_video(filepath_input, filepath_output):\n",
    "    my_clip = mp.VideoFileClip(r\"{}\".format(filepath_input))\n",
    "    my_clip.audio.write_audiofile(r\"{}\".format(filepath_output))\n",
    "    \n",
    "\n",
    "if __name__ == \"__main__\":\n",
    "    root_dir = \"C:\\\\Users\\\\adria\\\\OneDrive - Universität Zürich UZH\\\\2021_FS\\\\Interactive Video Retrieval\\\\Project\\\\Video_DB\\\\**\"\n",
    "    filepath_input_list, filepath_output_list = get_video_paths(root_dir)\n",
    "    print(filepath_input_list, filepath_output_list)\n",
    "    \n",
    "    for path, name in zip(filepath_input_list, filepath_output_list):\n",
    "        process_video(path, name)\n",
    "    \n",
    "    print(\"Finished\")\n"
   ]
  },
  {
   "cell_type": "code",
   "execution_count": null,
   "id": "frequent-yorkshire",
   "metadata": {},
   "outputs": [],
   "source": []
  }
 ],
 "metadata": {
  "kernelspec": {
   "display_name": "Python 3",
   "language": "python",
   "name": "python3"
  },
  "language_info": {
   "codemirror_mode": {
    "name": "ipython",
    "version": 3
   },
   "file_extension": ".py",
   "mimetype": "text/x-python",
   "name": "python",
   "nbconvert_exporter": "python",
   "pygments_lexer": "ipython3",
   "version": "3.8.8"
  }
 },
 "nbformat": 4,
 "nbformat_minor": 5
}
