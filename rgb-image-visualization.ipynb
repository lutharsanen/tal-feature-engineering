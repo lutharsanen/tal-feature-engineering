{
 "cells": [
  {
   "cell_type": "code",
   "execution_count": 45,
   "id": "695e4249",
   "metadata": {},
   "outputs": [],
   "source": [
    "import numpy as np\n",
    "import os\n",
    "import math\n",
    "from PIL import Image\n",
    "import matplotlib.pyplot as plt\n",
    "import matplotlib.patches as patches\n",
    "from math import sqrt"
   ]
  },
  {
   "cell_type": "code",
   "execution_count": 46,
   "id": "067ea9f6",
   "metadata": {},
   "outputs": [],
   "source": [
    "import multiprocessing\n",
    "from multiprocessing import Process, Queue"
   ]
  },
  {
   "cell_type": "code",
   "execution_count": 47,
   "id": "ec79a0c2",
   "metadata": {},
   "outputs": [],
   "source": [
    "def get_all_filesname(path):\n",
    "    files = os.listdir(path)\n",
    "    return files\n",
    "\n",
    "def calculate(files):\n",
    "    for file in files:\n",
    "        return file"
   ]
  },
  {
   "cell_type": "code",
   "execution_count": 48,
   "id": "1b0b68f7",
   "metadata": {},
   "outputs": [],
   "source": [
    "COLORS = (\n",
    "    (0,0,0), #black \n",
    "    (255,255,255), #white\n",
    "    (255,0,0), #red\n",
    "    (0,255,0), #lime\n",
    "    (0,0,255), #blue\n",
    "    (255,255,0), #yellow\n",
    "    (0,255,255), #cyan\n",
    "    (255,0,255), #magenta\n",
    "    (192,192,192), #silver\n",
    "    (128,128,128), #gray\n",
    "    (128,0,0), #maroon\n",
    "    (128,128,0), #olive\n",
    "    (0,128,0), #green\n",
    "    (128,0,128), #purple\n",
    "    (0,128,128), #teal\n",
    "    (0,0,128), #navy\n",
    "    (255,165,0) #orange\n",
    ")\n",
    "\n",
    "def closest_color(rgb):\n",
    "    r, g, b = rgb[0],rgb[1],rgb[2]\n",
    "    color_diffs = []\n",
    "    for color in COLORS:\n",
    "        cr, cg, cb = color\n",
    "        color_diff = sqrt(abs(r - cr)**2 + abs(g - cg)**2 + abs(b - cb)**2)\n",
    "        color_diffs.append((color_diff, color))\n",
    "    return min(color_diffs)[1]\n",
    "\n",
    "def find_dominant_color(image):\n",
    "    #Resizing parameters\n",
    "    width, height = 150,150\n",
    "    image = image.resize((width, height),resample = 0)\n",
    "    #Get colors from image object\n",
    "    pixels = image.getcolors(width * height)\n",
    "    #Sort them by count number(first element of tuple)\n",
    "    sorted_pixels = sorted(pixels, key=lambda t: t[0])\n",
    "    #Get the most frequent color\n",
    "    dominant_color = sorted_pixels[-1][1]\n",
    "    return closest_color(dominant_color)"
   ]
  },
  {
   "cell_type": "code",
   "execution_count": 49,
   "id": "9fe9c80f",
   "metadata": {},
   "outputs": [],
   "source": [
    "#im = Image.open(\"shot01366_48_RKF.png\")"
   ]
  },
  {
   "cell_type": "code",
   "execution_count": 50,
   "id": "f1e68fcf",
   "metadata": {},
   "outputs": [],
   "source": [
    "def rgb2hex(r,g,b):\n",
    "    return \"#{:02x}{:02x}{:02x}\".format(r,g,b)\n",
    "\n",
    "def find_dominant_color_per_pixel(image):\n",
    "    #Resizing parameters\n",
    "    width, height = 150,150\n",
    "    image = image.resize((width, height),resample = 0)\n",
    "    #Get colors from image object\n",
    "    pixels = image.getcolors(width * height)\n",
    "    #Sort them by count number(first element of tuple)\n",
    "    sorted_pixels = sorted(pixels, key=lambda t: t[0])\n",
    "    #Get the most frequent color\n",
    "    dominant_color = sorted_pixels[-1][1]\n",
    "    \n",
    "    return dominant_color[0],dominant_color[1], dominant_color[2]"
   ]
  },
  {
   "cell_type": "code",
   "execution_count": 51,
   "id": "b60a3f90",
   "metadata": {},
   "outputs": [
    {
     "name": "stdout",
     "output_type": "stream",
     "text": [
      "[95, 100, 76, 95, 95, 92, 115, 154, 189, 66, 82, 38, 84, 86, 83, 82, 71, 78, 195, 159, 172, 48, 57, 38, 82, 80, 81, 83, 76, 79, 84, 69, 58, 52, 61, 42]\n"
     ]
    },
    {
     "data": {
      "image/png": "[encoded data removed]",
      "text/plain": [
       "<Figure size 432x288 with 1 Axes>"
      ]
     },
     "metadata": {
      "needs_background": "light"
     },
     "output_type": "display_data"
    }
   ],
   "source": [
    "# Test with pixelwise closest color\n",
    "#---------------------------------\n",
    "def imgcrop(input, xPieces, yPieces):\n",
    "    # Create figure and axes\n",
    "    fig, ax = plt.subplots()\n",
    "    filename, file_extension = os.path.splitext(input)\n",
    "    im = Image.open(input)\n",
    "    imgwidth, imgheight = im.size\n",
    "    height = imgheight // yPieces\n",
    "    width = imgwidth // xPieces\n",
    "    colors = []\n",
    "    for i in range(0, yPieces):\n",
    "        for j in range(0, xPieces):\n",
    "            box = (j * width, i * height, (j + 1) * width, (i + 1) * height)\n",
    "            #print(\"box\",box)\n",
    "            a = im.crop(box)\n",
    "            color = find_dominant_color_per_pixel(a)\n",
    "            colors.append(color) \n",
    "            color = rgb2hex(color[0],color[1],color[2])\n",
    "            rect = patches.Rectangle((j * width, i * height), width, height, linewidth=1, color=color)                   \n",
    "            \n",
    "            # Add the patch to the Axes\n",
    "            ax.add_patch(rect)\n",
    "    #print(colors)\n",
    "    out = list(sum(colors, ()))\n",
    "    #print(out)\n",
    "    # Display the image\n",
    "    ax.imshow(im)\n",
    "    plt.show()\n",
    "\n",
    "            \n",
    "imgcrop(\"shot01366_48_RKF.png\",4,3)\n"
   ]
  },
  {
   "cell_type": "code",
   "execution_count": 52,
   "id": "cc70af21",
   "metadata": {},
   "outputs": [
    {
     "data": {
      "image/png": "[encoded data removed]",
      "text/plain": [
       "<Figure size 432x288 with 1 Axes>"
      ]
     },
     "metadata": {
      "needs_background": "light"
     },
     "output_type": "display_data"
    }
   ],
   "source": [
    "# Test with RGB closest color\n",
    "#---------------------------------\n",
    "image = \"shot00309_89_RKF.png\"\n",
    "fig, ax = plt.subplots()\n",
    "xPieces = 4\n",
    "yPieces = 3\n",
    "colors = []\n",
    "im = Image.open(image) \n",
    "imgwidth, imgheight = im.size\n",
    "height = imgheight // yPieces\n",
    "width = imgwidth // xPieces\n",
    "for i in range(0, yPieces):\n",
    "    for j in range(0, xPieces):\n",
    "        box = (j * width, i * height, (j + 1) * width, (i + 1) * height)\n",
    "        a = im.crop(box)\n",
    "        color = find_dominant_color(a)\n",
    "        colors.append(color)\n",
    "        color = rgb2hex(color[0],color[1],color[2])\n",
    "        rect = patches.Rectangle((j * width, i * height), width, height, linewidth=1, color=color)   \n",
    "        # Add the patch to the Axes\n",
    "        ax.add_patch(rect)\n",
    "color_list = list(sum(colors, ()))\n",
    "    #print(colors)\n",
    "out = color_list\n",
    "\n",
    "# Display the image\n",
    "ax.imshow(im)\n",
    "plt.show()"
   ]
  }
 ],
 "metadata": {
  "kernelspec": {
   "display_name": "Python 3",
   "language": "python",
   "name": "python3"
  },
  "language_info": {
   "codemirror_mode": {
    "name": "ipython",
    "version": 3
   },
   "file_extension": ".py",
   "mimetype": "text/x-python",
   "name": "python",
   "nbconvert_exporter": "python",
   "pygments_lexer": "ipython3",
   "version": "3.9.4"
  }
 },
 "nbformat": 4,
 "nbformat_minor": 5
}
