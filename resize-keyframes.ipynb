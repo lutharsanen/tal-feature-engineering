{
 "cells": [
  {
   "cell_type": "code",
   "execution_count": 1,
   "metadata": {},
   "outputs": [],
   "source": [
    "import os\n",
    "from PIL import Image\n",
    "from tqdm import tqdm"
   ]
  },
  {
   "cell_type": "code",
   "execution_count": 2,
   "metadata": {},
   "outputs": [],
   "source": [
    "def get_all_filesname(path):\n",
    "    files = os.listdir(path)\n",
    "    return files\n"
   ]
  },
  {
   "cell_type": "code",
   "execution_count": 5,
   "metadata": {},
   "outputs": [],
   "source": [
    "def delete_similar_images(path):\n",
    "    file_names = get_all_filesname(path)\n",
    "    # Read in an image\n",
    "    for i in file_names:\n",
    "        width,height = 650,450\n",
    "        img = Image.open(path+\"/\"+i)\n",
    "        resized_image = img.resize((width, height),resample = 0)\n",
    "        resized_image.save(path+\"/\"+i)"
   ]
  },
  {
   "cell_type": "code",
   "execution_count": 7,
   "metadata": {},
   "outputs": [
    {
     "name": "stderr",
     "output_type": "stream",
     "text": [
      "100%|██████████| 750/750 [3:44:33<00:00, 17.96s/it]  \n"
     ]
    }
   ],
   "source": [
    "path = \"/media/lkunam/Elements/Video Retrieval System/keyframes_filtered_resized\"\n",
    "\n",
    "foldername = get_all_filesname(\"/media/lkunam/Elements/Video Retrieval System/keyframes_filtered_resized\")\n",
    "for folder in tqdm(foldername):\n",
    "    delete_similar_images(path+\"/\"+folder)"
   ]
  },
  {
   "cell_type": "code",
   "execution_count": null,
   "metadata": {},
   "outputs": [],
   "source": []
  }
 ],
 "metadata": {
  "kernelspec": {
   "display_name": "Python 3",
   "language": "python",
   "name": "python3"
  },
  "language_info": {
   "codemirror_mode": {
    "name": "ipython",
    "version": 3
   },
   "file_extension": ".py",
   "mimetype": "text/x-python",
   "name": "python",
   "nbconvert_exporter": "python",
   "pygments_lexer": "ipython3",
   "version": "3.8.5"
  }
 },
 "nbformat": 4,
 "nbformat_minor": 4
}
