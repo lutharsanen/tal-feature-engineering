{
 "cells": [
  {
   "cell_type": "code",
   "execution_count": 35,
   "metadata": {},
   "outputs": [],
   "source": [
    "from sklearn.metrics.pairwise import cosine_similarity\n",
    "import os\n"
   ]
  },
  {
   "cell_type": "code",
   "execution_count": 28,
   "metadata": {},
   "outputs": [],
   "source": [
    "def get_all_filesname(path):\n",
    "    files = os.listdir(path)\n",
    "    return files\n",
    "\n",
    "lst = get_all_filesname(\"D:\\\\Video Retrieval System\\\\keyframes\\\\00032\")"
   ]
  },
  {
   "cell_type": "code",
   "execution_count": 84,
   "metadata": {},
   "outputs": [
    {
     "name": "stderr",
     "output_type": "stream",
     "text": [
      "C:\\Users\\lutha\\Anaconda3\\envs\\data science\\lib\\site-packages\\torchvision\\transforms\\transforms.py:279: UserWarning: The use of the transforms.Scale transform is deprecated, please use transforms.Resize instead.\n",
      "  warnings.warn(\"The use of the transforms.Scale transform is deprecated, \" +\n"
     ]
    }
   ],
   "source": [
    "from img2vec_pytorch import Img2Vec\n",
    "from PIL import Image\n",
    "\n",
    "path = \"D:\\\\Video Retrieval System\\\\keyframes\\\\00032\"\n",
    "\n",
    "# Initialize Img2Vec with GPU\n",
    "img2vec = Img2Vec(cuda=True)\n",
    "\n",
    "img_dict = {}\n",
    "# Read in an image\n",
    "for i in lst:\n",
    "    img = Image.open(path+\"\\\\\"+i)\n",
    "    # Get a vector from img2vec, returned as a torch FloatTensor\n",
    "    img_dict[i] = img2vec.get_vec(img)\n"
   ]
  },
  {
   "cell_type": "code",
   "execution_count": 97,
   "metadata": {
    "scrolled": false
   },
   "outputs": [
    {
     "name": "stdout",
     "output_type": "stream",
     "text": [
      "deleting image shot00032_18_RKF.png\n",
      "deleting image shot00032_20_RKF.png\n",
      "deleting image shot00032_26_RKF.png\n",
      "deleting image shot00032_2_RKF.png\n",
      "deleting image shot00032_3_RKF.png\n",
      "deleting image shot00032_15_RKF.png\n",
      "deleting image shot00032_16_RKF.png\n",
      "deleting image shot00032_22_RKF.png\n",
      "deleting image shot00032_24_RKF.png\n",
      "deleting image shot00032_7_RKF.png\n",
      "deleting image shot00032_9_RKF.png\n"
     ]
    },
    {
     "ename": "TypeError",
     "evalue": "an integer is required (got type PngImageFile)",
     "output_type": "error",
     "traceback": [
      "\u001b[1;31m---------------------------------------------------------------------------\u001b[0m",
      "\u001b[1;31mTypeError\u001b[0m                                 Traceback (most recent call last)",
      "\u001b[1;32m<ipython-input-97-91bbb8e51c23>\u001b[0m in \u001b[0;36m<module>\u001b[1;34m\u001b[0m\n\u001b[0;32m      9\u001b[0m                     \u001b[0mdel_img\u001b[0m\u001b[1;33m.\u001b[0m\u001b[0mappend\u001b[0m\u001b[1;33m(\u001b[0m\u001b[0mkey2\u001b[0m\u001b[1;33m)\u001b[0m\u001b[1;33m\u001b[0m\u001b[1;33m\u001b[0m\u001b[0m\n\u001b[0;32m     10\u001b[0m \u001b[1;33m\u001b[0m\u001b[0m\n\u001b[1;32m---> 11\u001b[1;33m \u001b[0mos\u001b[0m\u001b[1;33m.\u001b[0m\u001b[0mclose\u001b[0m\u001b[1;33m(\u001b[0m\u001b[0mimg\u001b[0m\u001b[1;33m)\u001b[0m\u001b[1;33m\u001b[0m\u001b[1;33m\u001b[0m\u001b[0m\n\u001b[0m\u001b[0;32m     12\u001b[0m \u001b[1;32mfor\u001b[0m \u001b[0mi\u001b[0m \u001b[1;32min\u001b[0m \u001b[0mdel_img\u001b[0m\u001b[1;33m:\u001b[0m\u001b[1;33m\u001b[0m\u001b[1;33m\u001b[0m\u001b[0m\n\u001b[0;32m     13\u001b[0m     \u001b[0mos\u001b[0m\u001b[1;33m.\u001b[0m\u001b[0mremove\u001b[0m\u001b[1;33m(\u001b[0m\u001b[0mpath\u001b[0m\u001b[1;33m+\u001b[0m\u001b[1;34m\"\\\\\"\u001b[0m\u001b[1;33m+\u001b[0m\u001b[0mi\u001b[0m\u001b[1;33m)\u001b[0m\u001b[1;33m\u001b[0m\u001b[1;33m\u001b[0m\u001b[0m\n",
      "\u001b[1;31mTypeError\u001b[0m: an integer is required (got type PngImageFile)"
     ]
    }
   ],
   "source": [
    "del_img = []\n",
    "for key1,val1 in img_dict.items():\n",
    "    if key1 not in del_img:\n",
    "        for key2,val2 in img_dict.items():\n",
    "            if key2 not in del_img:\n",
    "                cos_val = cosine_similarity(val1.reshape((1, -1)), val2.reshape((1, -1)))[0][0]\n",
    "                if cos_val > 0.92 and key1 != key2:\n",
    "                    print(f\"deleting image {key2}\")\n",
    "                    del_img.append(key2)\n",
    "\n",
    "for i in del_img:\n",
    "    os.remove(path+\"\\\\\"+i)"
   ]
  }
 ],
 "metadata": {
  "kernelspec": {
   "display_name": "Python 3",
   "language": "python",
   "name": "python3"
  },
  "language_info": {
   "codemirror_mode": {
    "name": "ipython",
    "version": 3
   },
   "file_extension": ".py",
   "mimetype": "text/x-python",
   "name": "python",
   "nbconvert_exporter": "python",
   "pygments_lexer": "ipython3",
   "version": "3.7.7"
  }
 },
 "nbformat": 4,
 "nbformat_minor": 4
}
