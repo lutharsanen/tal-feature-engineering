{
 "cells": [
  {
   "cell_type": "code",
   "execution_count": 16,
   "metadata": {},
   "outputs": [],
   "source": [
    "# import some common libraries\n",
    "import numpy as np\n",
    "import os, json, random\n",
    "\n",
    "import math\n",
    "import glob\n",
    "import requests"
   ]
  },
  {
   "cell_type": "code",
   "execution_count": 29,
   "metadata": {},
   "outputs": [],
   "source": [
    "def get_all_filesname(path):\n",
    "    files = os.listdir(path)\n",
    "    return files\n",
    "\n",
    "def get_keyframe_id(filename, video_id,path):\n",
    "    video_path = filename.replace(f\"{path}/home/keyframes_filtered/\",\"\")\n",
    "    keyframe_path = video_path.replace(video_id,\"\")\n",
    "    keyframe_id = keyframe_path.replace(f\"shot_\",\"\").replace(f\"_RKF.png\",\"\")\n",
    "    return keyframe_id\n",
    "\n",
    "# change this path according to your computer\n",
    "path = \"//tal.diskstation.me@SSL@5006/DavWWWRootdav\""
   ]
  },
  {
   "cell_type": "code",
   "execution_count": 30,
   "metadata": {},
   "outputs": [
    {
     "name": "stdout",
     "output_type": "stream",
     "text": [
      "['00032', '00037', '00061', '00063', '00078', '00081', '00111', '00181', '00188', '00192', '00203', '00204', '00220', '00239', '00250', '00251', '00257', '00268', '00293', '00300', '00305', '00307', '00309', '00337', '00343', '00367', '00373', '00387', '00398', '00419']\n"
     ]
    }
   ],
   "source": [
    "video_filelist = sorted(get_all_filesname(f\"{path}/home/keyframes_filtered\"))[:30]\n",
    "print(video_filelist)"
   ]
  },
  {
   "cell_type": "code",
   "execution_count": 31,
   "metadata": {},
   "outputs": [],
   "source": [
    "def run(path):\n",
    "    video_filelist = sorted(get_all_filesname(f\"{path}/home/keyframes_filtered\"))\n",
    "    for videonr in video_filelist:\n",
    "        for filename in get_all_filesname(f\"{path}/home/keyframes_filtered/{videonr}\"):\n",
    "            keyframe_id = videonr,get_keyframe_id(filename,videonr,path)\n",
    "            image = f\"{path}/home/keyframes_filtered/{videonr}/{filename}\"\n",
    "            #print(videonr, keyframe_id)\n",
    "            caption = get_caption(image)\n",
    "            print(caption)\n",
    "            break\n",
    "        break"
   ]
  },
  {
   "cell_type": "code",
   "execution_count": 34,
   "metadata": {},
   "outputs": [],
   "source": [
    "def get_caption(image):\n",
    "    files = {\n",
    "    'image': (image, open(image, 'rb')),\n",
    "    }\n",
    "    url = 'http://localhost:5000/model/predict'\n",
    "    response = requests.post(url, files=files)\n",
    "    \n",
    "    return response"
   ]
  },
  {
   "cell_type": "code",
   "execution_count": 35,
   "metadata": {},
   "outputs": [
    {
     "name": "stdout",
     "output_type": "stream",
     "text": [
      "<Response [400]>\n"
     ]
    }
   ],
   "source": [
    "run(path)"
   ]
  },
  {
   "cell_type": "code",
   "execution_count": null,
   "metadata": {},
   "outputs": [],
   "source": []
  }
 ],
 "metadata": {
  "kernelspec": {
   "display_name": "Python 3",
   "language": "python",
   "name": "python3"
  },
  "language_info": {
   "codemirror_mode": {
    "name": "ipython",
    "version": 3
   },
   "file_extension": ".py",
   "mimetype": "text/x-python",
   "name": "python",
   "nbconvert_exporter": "python",
   "pygments_lexer": "ipython3",
   "version": "3.8.5"
  }
 },
 "nbformat": 4,
 "nbformat_minor": 4
}
