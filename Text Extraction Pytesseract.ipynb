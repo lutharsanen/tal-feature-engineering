{
 "cells": [
  {
   "cell_type": "code",
   "execution_count": 46,
   "metadata": {},
   "outputs": [],
   "source": [
    "# import packages\n",
    "# install Google Tesseract OCR and change the tesseract_cmd variable\n",
    "# see more: https://pypi.org/project/pytesseract/\n",
    "\n",
    "try:\n",
    "    from PIL import Image\n",
    "except ImportError:\n",
    "    import Image\n",
    "import pytesseract as tess\n",
    "import glob\n",
    "import os\n",
    "import requests\n",
    "import json\n",
    "\n",
    "# If you don't have tesseract executable in your PATH, include the following:\n",
    "# pytesseract.pytesseract.tesseract_cmd = r'<full_path_to_your_tesseract_executable>'\n",
    "\n",
    "tess.pytesseract.tesseract_cmd = r\"C:\\Program Files\\Tesseract-OCR\\tesseract.exe\""
   ]
  },
  {
   "cell_type": "code",
   "execution_count": 47,
   "metadata": {},
   "outputs": [],
   "source": [
    "def get_all_filesname(path):\n",
    "    files = os.listdir(path)\n",
    "    return files"
   ]
  },
  {
   "cell_type": "code",
   "execution_count": 48,
   "metadata": {},
   "outputs": [],
   "source": [
    "video_filelist = get_all_filesname(\"D:\\\\Video Retrieval System\\\\keyframes\")[:10]\n",
    "# for full db\n",
    "#video_filelist = get_all_filesname(\"D:\\\\Video Retrieval System\\\\keyframes\")"
   ]
  },
  {
   "cell_type": "code",
   "execution_count": 51,
   "metadata": {},
   "outputs": [],
   "source": [
    "for videonr in video_filelist:\n",
    "    f = open(f\"D:\\\\Video Retrieval System\\\\videos\\\\{videonr}\\\\{videonr}.description\")\n",
    "    description = f.read()\n",
    "    video_url = \"http://127.0.0.1:8000/api/insert-videoid\"\n",
    "    csrftoken = \"csrftoken=qFikZvAWvofmMZA9RkpuOuACmQqExtcM7RhGDrskdWAtNd5lV79Wr0Eh9p2e1jNS\"\n",
    "    video_payload = json.dumps({\n",
    "      \"video_id\": int(videonr),\n",
    "      \"description\": description\n",
    "    })\n",
    "    video_headers = {\n",
    "      'Content-Type': 'application/json',\n",
    "      'Cookie': csrftoken\n",
    "    }\n",
    "\n",
    "    response = requests.request(\"POST\", video_url, headers=video_headers, data=video_payload)\n",
    "\n",
    "    for filename in glob.glob(f'D:\\Video Retrieval System\\\\keyframes\\\\{videonr}\\\\*.png'):\n",
    "        if filename[-16:-13] == \"000\":\n",
    "            keyframe_id = filename[-16:-4]\n",
    "        else:\n",
    "            keyframe_id = filename[-15:-4]\n",
    "        img = Image.open(filename)\n",
    "        text = tess.image_to_string(img).strip(\"\\n\\x0c\")\n",
    "        if text != (\" \" or \"\") and len(text) > 0:\n",
    "            text_url = \"http://127.0.0.1:8000/api/insert-textanalysis\"\n",
    "\n",
    "            text_payload = json.dumps({\n",
    "              \"video_id\": int(videonr),\n",
    "              \"keyframe_id\": \"id1235\",\n",
    "              \"text\": text\n",
    "            })\n",
    "            text_headers = {\n",
    "              'Content-Type': 'application/json',\n",
    "              'Cookie': 'csrftoken=qFikZvAWvofmMZA9RkpuOuACmQqExtcM7RhGDrskdWAtNd5lV79Wr0Eh9p2e1jNS'\n",
    "            }\n",
    "\n",
    "            response = requests.request(\"POST\", text_url, headers=text_headers, data=text_payload)"
   ]
  },
  {
   "cell_type": "code",
   "execution_count": null,
   "metadata": {},
   "outputs": [],
   "source": []
  }
 ],
 "metadata": {
  "kernelspec": {
   "display_name": "Python 3",
   "language": "python",
   "name": "python3"
  },
  "language_info": {
   "codemirror_mode": {
    "name": "ipython",
    "version": 3
   },
   "file_extension": ".py",
   "mimetype": "text/x-python",
   "name": "python",
   "nbconvert_exporter": "python",
   "pygments_lexer": "ipython3",
   "version": "3.7.7"
  }
 },
 "nbformat": 4,
 "nbformat_minor": 5
}
