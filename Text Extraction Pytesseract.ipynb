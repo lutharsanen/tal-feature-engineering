{
 "cells": [
  {
   "cell_type": "code",
   "execution_count": 9,
   "id": "pediatric-value",
   "metadata": {},
   "outputs": [],
   "source": [
    "# import packages\n",
    "# install Google Tesseract OCR and change the tesseract_cmd variable\n",
    "# see more: https://pypi.org/project/pytesseract/\n",
    "\n",
    "try:\n",
    "    from PIL import Image\n",
    "except ImportError:\n",
    "    import Image\n",
    "import pytesseract as tess\n",
    "import glob\n",
    "\n",
    "# If you don't have tesseract executable in your PATH, include the following:\n",
    "# pytesseract.pytesseract.tesseract_cmd = r'<full_path_to_your_tesseract_executable>'\n",
    "\n",
    "tess.pytesseract.tesseract_cmd = r\"C:\\Users\\adria\\AppData\\Local\\Programs\\Tesseract-OCR\\tesseract.exe\""
   ]
  },
  {
   "cell_type": "code",
   "execution_count": 4,
   "id": "informational-honey",
   "metadata": {},
   "outputs": [
    {
     "name": "stdout",
     "output_type": "stream",
     "text": [
      "Creating\n",
      "the CDSC Hydroponic Farm\n",
      "\n",
      " \n",
      "\f",
      "\n"
     ]
    }
   ],
   "source": [
    "# Simple image to string (test)\n",
    "img = Image.open('D:/Video_Keyframes/keyframes/00032/shot00032_1_RKF.png')\n",
    "text = tess.image_to_string(img)\n",
    "\n",
    "print(text)"
   ]
  },
  {
   "cell_type": "code",
   "execution_count": 6,
   "id": "cardiovascular-jurisdiction",
   "metadata": {},
   "outputs": [
    {
     "name": "stdout",
     "output_type": "stream",
     "text": [
      "['deu', 'eng', 'osd']\n"
     ]
    }
   ],
   "source": [
    "# check the list of available languages\n",
    "print(tess.get_languages(config=''))"
   ]
  },
  {
   "cell_type": "code",
   "execution_count": 13,
   "id": "medium-costs",
   "metadata": {},
   "outputs": [
    {
     "name": "stdout",
     "output_type": "stream",
     "text": [
      "[' \\n\\x0c', ' \\n\\x0c', ' \\n\\x0c', ' \\n\\x0c', ' \\n\\x0c', ' \\n\\x0c', ' \\n\\x0c', 'jal\\n\\x0c', ' \\n\\x0c', ' \\n\\x0c', 'Creating\\nthe CDSC Hydroponic Farm\\n\\n \\n\\x0c', ' \\n\\x0c', 'a\\n\\n=~\\n\\nKir\\n\\x0c', ' \\n\\x0c', ' \\n\\x0c', ' \\n\\x0c', '. a\\nI uf\\n\\x0c', ' \\n\\x0c', ' \\n\\x0c', ' \\n\\x0c', ' \\n\\x0c', 'I a\\napr\\nalg\\n\\x0c', ' \\n\\x0c', 'Special Thanks\\nLee Mandell\\nMireille Massac\\nDayo Adebayo\\nRobert Kwiatkowski\\nShirley Paulino\\nTimothy Pracher-Dix\\nCadet Raphael\\nLuis Vargas\\n\\x0c', 'This program was created using\\nthe equipment and facilities of\\nBrooklyn Community\\nAccess Television.\\n\\x0c', ' \\n\\x0c', ' \\n\\x0c', ' \\n\\x0c', ' \\n\\x0c', ' \\n\\x0c', '\\x0c', ' \\n\\x0c']\n"
     ]
    }
   ],
   "source": [
    "image_list = []\n",
    "\n",
    "for filename in glob.glob('D:/Video_Keyframes/keyframes/00032/*.png'):\n",
    "    img = Image.open(filename)\n",
    "    image_list.append(tess.image_to_string(img))\n",
    "    \n",
    "print(image_list)"
   ]
  },
  {
   "cell_type": "code",
   "execution_count": null,
   "id": "described-creature",
   "metadata": {},
   "outputs": [],
   "source": [
    "#for folder in glob.glob('D:/Video_Keyframes/keyframes')"
   ]
  }
 ],
 "metadata": {
  "kernelspec": {
   "display_name": "Python 3",
   "language": "python",
   "name": "python3"
  },
  "language_info": {
   "codemirror_mode": {
    "name": "ipython",
    "version": 3
   },
   "file_extension": ".py",
   "mimetype": "text/x-python",
   "name": "python",
   "nbconvert_exporter": "python",
   "pygments_lexer": "ipython3",
   "version": "3.8.8"
  }
 },
 "nbformat": 4,
 "nbformat_minor": 5
}
