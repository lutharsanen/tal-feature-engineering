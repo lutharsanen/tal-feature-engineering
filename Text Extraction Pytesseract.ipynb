{
 "cells": [
  {
   "cell_type": "code",
   "execution_count": 55,
   "metadata": {},
   "outputs": [],
   "source": [
    "# import packages\n",
    "# install Google Tesseract OCR and change the tesseract_cmd variable\n",
    "# see more: https://pypi.org/project/pytesseract/\n",
    "\n",
    "try:\n",
    "    from PIL import Image\n",
    "except ImportError:\n",
    "    import Image\n",
    "import pytesseract as tess\n",
    "import glob\n",
    "import os\n",
    "import requests\n",
    "import json\n",
    "import re\n",
    "import pandas as pd\n",
    "\n",
    "# If you don't have tesseract executable in your PATH, include the following:\n",
    "# pytesseract.pytesseract.tesseract_cmd = r'<full_path_to_your_tesseract_executable>'\n",
    "\n",
    "tess.pytesseract.tesseract_cmd = r\"C:\\Program Files\\Tesseract-OCR\\tesseract.exe\""
   ]
  },
  {
   "cell_type": "code",
   "execution_count": 56,
   "metadata": {},
   "outputs": [],
   "source": [
    "def get_all_filesname(path):\n",
    "    files = os.listdir(path)\n",
    "    return files\n",
    "\n",
    "def cleanhtml(raw_html):\n",
    "    cleanr = re.compile('<.*?>')\n",
    "    cleantext = re.sub(cleanr, '', raw_html)\n",
    "    return cleantext\n",
    "\n",
    "def get_keyframe_id(filename, video_id):\n",
    "    video_path = filename.replace(f\"D:\\\\Video Retrieval System\\\\keyframes\\\\\",\"\")\n",
    "    keyframe_path = video_path.replace(video_id,\"\")\n",
    "    keyframe_id = keyframe_path.replace(f\"\\shot_\",\"\").replace(f\"_RKF.png\",\"\")\n",
    "    return keyframe_id\n",
    "    "
   ]
  },
  {
   "cell_type": "code",
   "execution_count": 57,
   "metadata": {},
   "outputs": [],
   "source": [
    "video_filelist = get_all_filesname(\"D:\\\\Video Retrieval System\\\\keyframes\")[:20]\n",
    "# for full db\n",
    "#video_filelist = get_all_filesname(\"D:\\\\Video Retrieval System\\\\keyframes\")"
   ]
  },
  {
   "cell_type": "code",
   "execution_count": 64,
   "metadata": {},
   "outputs": [],
   "source": [
    "for videonr in video_filelist:\n",
    "    #f = open(f\"D:\\\\Video Retrieval System\\\\info\\\\{videonr}.json\")\n",
    "    f = open(f\"C:\\\\Users\\\\adria\\\\OneDrive - Universität Zürich UZH\\\\2021_FS\\\\Interactive Video Retrieval\\\\Project\\\\Video_Info\\\\info\\\\{videonr}.json\")\n",
    "    data = json.load(f)\n",
    "    video_url = \"http://127.0.0.1:8000/api/updateVideo\"\n",
    "    csrftoken = \"csrftoken=qFikZvAWvofmMZA9RkpuOuACmQqExtcM7RhGDrskdWAtNd5lV79Wr0Eh9p2e1jNS\"\n",
    "    video_payload = json.dumps({\n",
    "        \"video_id\": videonr,\n",
    "        \"description\": cleanhtml(data[\"description\"]),\n",
    "        \"title\": data[\"title\"],\n",
    "        \"vimeo_id\": data[\"vimeoId\"]\n",
    "        \n",
    "    })\n",
    "    headers = {\n",
    "      'Content-Type': 'application/json',\n",
    "      'Cookie': csrftoken\n",
    "    }\n",
    "\n",
    "    response = requests.request(\"POST\", video_url, headers=headers, data=video_payload)\n",
    "    \n",
    "    for tag in data[\"tags\"]:\n",
    "        tag_url = \"http://127.0.0.1:8000/api/updateTags\"\n",
    "        tag_payload = json.dumps({\n",
    "            \"video_id\": int(videonr),\n",
    "            \"tag\": tag\n",
    "        })\n",
    "        response = requests.request(\"POST\", tag_url, headers=headers, data=tag_payload)\n",
    "    f = open(f\"D:\\\\Video Retrieval System\\\\msb\\\\{videonr}.tsv\")\n",
    "    read_tsv = pd.read_csv(f, delimiter=\"\\t\")\n",
    "    for filename in glob.glob(f'D:\\Video Retrieval System\\\\keyframes\\\\{videonr}\\\\*.png'):\n",
    "        video_id = videonr\n",
    "        keyframe_id = get_keyframe_id(filename, videonr)\n",
    "        keyframe_nr = int(keyframe_id)-1\n",
    "        img = Image.open(filename)\n",
    "        text = tess.image_to_string(img).strip(\"\\n\\x0c\")\n",
    "        if text != (\" \" or \"\") and len(text) > 0:\n",
    "            text_url = \"http://127.0.0.1:8000/api/updateTextanalysis\"\n",
    "            text.replace(\"/n\", \" \")\n",
    "            int(read_tsv.iloc[keyframe_nr][\"startframe\"])\n",
    "            text_payload = json.dumps({\n",
    "                \"video_id\": videonr,\n",
    "                \"keyframe_id\": keyframe_id,\n",
    "                \"text\": text,\n",
    "                \"start_frame\":int(read_tsv.iloc[keyframe_nr][\"startframe\"]),\n",
    "                \"start_time\":float(read_tsv.iloc[keyframe_nr][\"starttime\"])\n",
    "            })\n",
    "\n",
    "            response = requests.request(\"POST\", text_url, headers=headers, data=text_payload)"
   ]
  },
  {
   "cell_type": "code",
   "execution_count": null,
   "id": "amateur-referral",
   "metadata": {},
   "outputs": [],
   "source": []
  }
 ],
 "metadata": {
  "kernelspec": {
   "display_name": "Python 3",
   "language": "python",
   "name": "python3"
  },
  "language_info": {
   "codemirror_mode": {
    "name": "ipython",
    "version": 3
   },
   "file_extension": ".py",
   "mimetype": "text/x-python",
   "name": "python",
   "nbconvert_exporter": "python",
   "pygments_lexer": "ipython3",
   "version": "3.8.8"
  }
 },
 "nbformat": 4,
 "nbformat_minor": 5
}
