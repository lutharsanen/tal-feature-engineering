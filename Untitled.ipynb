{
 "cells": [
  {
   "cell_type": "code",
   "execution_count": 8,
   "metadata": {},
   "outputs": [],
   "source": [
    "import numpy as np\n",
    "import os\n",
    "import math\n",
    "from PIL import Image\n",
    "import matplotlib.pyplot as plt\n",
    "import matplotlib.patches as patches"
   ]
  },
  {
   "cell_type": "code",
   "execution_count": 9,
   "metadata": {},
   "outputs": [],
   "source": [
    "import multiprocessing\n",
    "from multiprocessing import Process, Queue"
   ]
  },
  {
   "cell_type": "code",
   "execution_count": 10,
   "metadata": {},
   "outputs": [],
   "source": [
    "def get_all_filesname(path):\n",
    "    files = os.listdir(path)\n",
    "    return files\n",
    "\n",
    "def calculate(files):\n",
    "    for file in files:\n",
    "        return file"
   ]
  },
  {
   "cell_type": "code",
   "execution_count": 11,
   "metadata": {},
   "outputs": [],
   "source": [
    "COLORS = (\n",
    "    (0,0,0), #black \n",
    "    (255,255,255), #white\n",
    "    (255,0,0), #red\n",
    "    (0,255,0), #lime\n",
    "    (0,0,255), #blue\n",
    "    (255,255,0), #yellow\n",
    "    (0,255,255), #cyan\n",
    "    (255,0,255), #magenta\n",
    "    (192,192,192), #silver\n",
    "    (128,128,128), #gray\n",
    "    (128,0,0), #maroon\n",
    "    (128,128,0), #olive\n",
    "    (0,128,0), #green\n",
    "    (128,0,128), #purple\n",
    "    (0,128,128), #teal\n",
    "    (0,0,128), #navy\n",
    "    (255,165,0) #orange\n",
    ")\n",
    "\n",
    "def closest_color(rgb):\n",
    "    r, g, b = rgb\n",
    "    color_diffs = []\n",
    "    for color in COLORS:\n",
    "        cr, cg, cb = color\n",
    "        color_diff = sqrt(abs(r - cr)**2 + abs(g - cg)**2 + abs(b - cb)**2)\n",
    "        color_diffs.append((color_diff, color))\n",
    "    return min(color_diffs)[1]\n",
    "\n",
    "\n",
    "def find_dominant_color(filename):\n",
    "    #Resizing parameters\n",
    "    im = Image.open(filename)\n",
    "    #im_quantized = im.quantize(256)\n",
    "    width, height = 150,150\n",
    "    image = im.resize((width, height),resample = 0)\n",
    "    #Get colors from image object\n",
    "    pixels = image.getcolors(width * height)\n",
    "    #Sort them by count number(first element of tuple)\n",
    "    sorted_pixels = sorted(pixels, key=lambda t: t[0])\n",
    "    print(sorted_pixels)\n",
    "    #Get the most frequent color\n",
    "    dominant_color = sorted_pixels[-1][1]\n",
    "    return closest_color(dominant_color)"
   ]
  },
  {
   "cell_type": "code",
   "execution_count": 12,
   "metadata": {},
   "outputs": [],
   "source": [
    "im = Image.open(\"cat.png\")"
   ]
  },
  {
   "cell_type": "code",
   "execution_count": 21,
   "metadata": {},
   "outputs": [],
   "source": [
    "def rgb2hex(r,g,b):\n",
    "    return \"#{:02x}{:02x}{:02x}\".format(r,g,b)\n",
    "\n",
    "def find_dominant_color(image):\n",
    "    #Resizing parameters\n",
    "    width, height = 150,150\n",
    "    image = image.resize((width, height),resample = 0)\n",
    "    #Get colors from image object\n",
    "    pixels = image.getcolors(width * height)\n",
    "    #Sort them by count number(first element of tuple)\n",
    "    sorted_pixels = sorted(pixels, key=lambda t: t[0])\n",
    "    #Get the most frequent color\n",
    "    dominant_color = sorted_pixels[-1][1]\n",
    "    \n",
    "    return dominant_color[0],dominant_color[1], dominant_color[2]"
   ]
  },
  {
   "cell_type": "code",
   "execution_count": 26,
   "metadata": {},
   "outputs": [
    {
     "name": "stdout",
     "output_type": "stream",
     "text": [
      "[222, 223, 227, 225, 226, 228, 228, 229, 231, 228, 229, 233, 202, 205, 210, 246, 246, 246, 219, 219, 217, 205, 208, 215, 181, 184, 189, 220, 220, 218, 201, 202, 197, 205, 206, 201]\n"
     ]
    },
    {
     "data": {
      "image/png": "[encoded data removed]",
      "text/plain": [
       "<Figure size 432x288 with 1 Axes>"
      ]
     },
     "metadata": {
      "needs_background": "light"
     },
     "output_type": "display_data"
    }
   ],
   "source": [
    "def imgcrop(input, xPieces, yPieces):\n",
    "    # Create figure and axes\n",
    "    fig, ax = plt.subplots()\n",
    "    filename, file_extension = os.path.splitext(input)\n",
    "    im = Image.open(input)\n",
    "    imgwidth, imgheight = im.size\n",
    "    height = imgheight // yPieces\n",
    "    width = imgwidth // xPieces\n",
    "    colors = []\n",
    "    for i in range(0, yPieces):\n",
    "        for j in range(0, xPieces):\n",
    "            box = (j * width, i * height, (j + 1) * width, (i + 1) * height)\n",
    "            #print(\"box\",box)\n",
    "            a = im.crop(box)\n",
    "            color = find_dominant_color(a)\n",
    "            colors.append(color)\n",
    "            color = rgb2hex(color[0],color[1],color[2])\n",
    "            rect = patches.Rectangle((j * width, i * height), width, height, linewidth=1, color=color)                   \n",
    "            \n",
    "            # Add the patch to the Axes\n",
    "            ax.add_patch(rect)\n",
    "    #print(colors)\n",
    "    out = list(sum(colors, ()))\n",
    "    print(out)\n",
    "    # Display the image\n",
    "    ax.imshow(im)\n",
    "    plt.show()\n",
    "\n",
    "            \n",
    "imgcrop(\"cat.png\",4,3)\n"
   ]
  },
  {
   "cell_type": "code",
   "execution_count": null,
   "metadata": {},
   "outputs": [],
   "source": []
  }
 ],
 "metadata": {
  "kernelspec": {
   "display_name": "Python 3",
   "language": "python",
   "name": "python3"
  },
  "language_info": {
   "codemirror_mode": {
    "name": "ipython",
    "version": 3
   },
   "file_extension": ".py",
   "mimetype": "text/x-python",
   "name": "python",
   "nbconvert_exporter": "python",
   "pygments_lexer": "ipython3",
   "version": "3.8.6"
  }
 },
 "nbformat": 4,
 "nbformat_minor": 5
}
