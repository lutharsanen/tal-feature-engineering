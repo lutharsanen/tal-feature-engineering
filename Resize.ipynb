{
 "cells": [
  {
   "cell_type": "code",
   "execution_count": 22,
   "metadata": {},
   "outputs": [],
   "source": [
    "import os\n",
    "from PIL import Image\n",
    "from tqdm import tqdm"
   ]
  },
  {
   "cell_type": "code",
   "execution_count": 23,
   "metadata": {},
   "outputs": [],
   "source": [
    "def get_all_filesname(path):\n",
    "    files = os.listdir(path)\n",
    "    return files\n"
   ]
  },
  {
   "cell_type": "code",
   "execution_count": 30,
   "metadata": {},
   "outputs": [],
   "source": [
    "def delete_similar_images(path):\n",
    "    file_names = get_all_filesname(path)\n",
    "    # Read in an image\n",
    "    for i in file_names:\n",
    "        print(i)\n",
    "        print(index)\n",
    "        width,height = 650,450\n",
    "        img = Image.open(path+\"/\"+i)\n",
    "        resized_image = img.resize((width, height),resample = 0)\n",
    "        resized_image.save(f\"resized_{i}\")\n",
    "        Image.open(resized_image)"
   ]
  },
  {
   "cell_type": "code",
   "execution_count": 31,
   "metadata": {},
   "outputs": [
    {
     "name": "stderr",
     "output_type": "stream",
     "text": [
      "1it [00:00, 206.19it/s]"
     ]
    },
    {
     "name": "stdout",
     "output_type": "stream",
     "text": [
      "shot00032_10_RKF.png\n",
      "0\n",
      "shot00032_11_RKF.png\n",
      "1\n",
      "shot00032_12_RKF.png\n",
      "2\n",
      "shot00032_13_RKF.png\n",
      "3\n",
      "shot00032_15_RKF.png\n",
      "4\n",
      "shot00032_17_RKF.png\n",
      "5\n",
      "shot00032_19_RKF.png\n",
      "6\n",
      "shot00032_1_RKF.png\n",
      "7\n",
      "shot00032_21_RKF.png\n",
      "8\n",
      "shot00032_23_RKF.png\n",
      "9\n",
      "shot00032_25_RKF.png\n",
      "10\n",
      "shot00032_27_RKF.png\n",
      "11\n",
      "shot00032_28_RKF.png\n",
      "12\n",
      "shot00032_29_RKF.png\n",
      "13\n",
      "shot00032_30_RKF.png\n",
      "14\n",
      "shot00032_31_RKF.png\n",
      "15\n",
      "shot00032_32_RKF.png\n",
      "16\n",
      "shot00032_4_RKF.png\n",
      "17\n",
      "shot00032_5_RKF.png\n",
      "18\n",
      "shot00032_6_RKF.png\n",
      "19\n",
      "shot00032_8_RKF.png\n",
      "20\n"
     ]
    },
    {
     "name": "stderr",
     "output_type": "stream",
     "text": [
      "\n"
     ]
    }
   ],
   "source": [
    "path = \"/media/lkunam/Elements/Video Retrieval System/keyframes_filtered_resized\"\n",
    "\n",
    "foldername = get_all_filesname(\"/media/lkunam/Elements/Video Retrieval System/keyframes_filtered\")\n",
    "for idx,folder in tqdm(enumerate(foldername[:1])):\n",
    "    delete_similar_images(path+\"/\"+folder)"
   ]
  },
  {
   "cell_type": "code",
   "execution_count": null,
   "metadata": {},
   "outputs": [],
   "source": []
  }
 ],
 "metadata": {
  "kernelspec": {
   "display_name": "Python 3",
   "language": "python",
   "name": "python3"
  },
  "language_info": {
   "codemirror_mode": {
    "name": "ipython",
    "version": 3
   },
   "file_extension": ".py",
   "mimetype": "text/x-python",
   "name": "python",
   "nbconvert_exporter": "python",
   "pygments_lexer": "ipython3",
   "version": "3.8.6"
  }
 },
 "nbformat": 4,
 "nbformat_minor": 4
}
